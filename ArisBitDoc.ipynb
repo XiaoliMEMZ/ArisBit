{
 "cells": [
  {
   "cell_type": "markdown",
   "id": "68b0224e",
   "metadata": {},
   "source": [
    "## ArisBit v1.0 使用手册"
   ]
  },
  {
   "cell_type": "markdown",
   "id": "36323be9",
   "metadata": {},
   "source": [
    "#### 导入库"
   ]
  },
  {
   "cell_type": "code",
   "execution_count": null,
   "id": "130cee89",
   "metadata": {},
   "outputs": [],
   "source": [
    "from arisbit import ArisBit"
   ]
  },
  {
   "cell_type": "markdown",
   "id": "501d284a",
   "metadata": {},
   "source": [
    "#### 实例化对象"
   ]
  },
  {
   "cell_type": "code",
   "execution_count": null,
   "id": "95abdd5e",
   "metadata": {},
   "outputs": [],
   "source": [
    "Bot = ArisBit()"
   ]
  },
  {
   "cell_type": "markdown",
   "id": "5c8595a5",
   "metadata": {},
   "source": [
    "#### 设置电机转速"
   ]
  },
  {
   "cell_type": "markdown",
   "id": "7978008d",
   "metadata": {},
   "source": [
    "##### 范围应当在[-1000,1000]之间"
   ]
  },
  {
   "cell_type": "code",
   "execution_count": null,
   "id": "c81d5221",
   "metadata": {},
   "outputs": [],
   "source": [
    "Bot.SetMotor(123, 234, 345, 456)"
   ]
  },
  {
   "cell_type": "markdown",
   "id": "6b53194c",
   "metadata": {},
   "source": [
    "#### 设置电机倍率"
   ]
  },
  {
   "cell_type": "markdown",
   "id": "044b42a9",
   "metadata": {},
   "source": [
    "##### 由于下位机使用PPS作为PID计算标准，使用本方法将最小转速、最大转速归一化到[-1000,1000]"
   ]
  },
  {
   "cell_type": "code",
   "execution_count": null,
   "id": "785205bb",
   "metadata": {},
   "outputs": [],
   "source": [
    "Bot.SetMotorRatio(14)"
   ]
  },
  {
   "cell_type": "markdown",
   "id": "ed44aa40",
   "metadata": {},
   "source": [
    "#### 获取偏航角（指南针）"
   ]
  },
  {
   "cell_type": "code",
   "execution_count": null,
   "id": "7a3095a3",
   "metadata": {},
   "outputs": [],
   "source": [
    "Bot.GetYaw()"
   ]
  },
  {
   "cell_type": "markdown",
   "id": "f484d01b",
   "metadata": {},
   "source": [
    "#### 获取电池电压"
   ]
  },
  {
   "cell_type": "code",
   "execution_count": null,
   "id": "93d786bc",
   "metadata": {},
   "outputs": [],
   "source": [
    "Bot.GetBatVol()"
   ]
  },
  {
   "cell_type": "markdown",
   "id": "b87622da",
   "metadata": {},
   "source": [
    "#### 获取按钮状态"
   ]
  },
  {
   "cell_type": "code",
   "execution_count": null,
   "id": "f1855774",
   "metadata": {},
   "outputs": [],
   "source": [
    "Bot.GetKey()"
   ]
  },
  {
   "cell_type": "markdown",
   "id": "8bfef331",
   "metadata": {},
   "source": [
    "#### 获取IO高低电平"
   ]
  },
  {
   "cell_type": "markdown",
   "id": "6f901c3b",
   "metadata": {},
   "source": [
    "##### 仅适用于IO1/2"
   ]
  },
  {
   "cell_type": "code",
   "execution_count": null,
   "id": "8ce8e245",
   "metadata": {},
   "outputs": [],
   "source": [
    "Bot.GetIO(1)"
   ]
  },
  {
   "cell_type": "markdown",
   "id": "f67a7e7a",
   "metadata": {},
   "source": [
    "#### 设置IO高低电平"
   ]
  },
  {
   "cell_type": "markdown",
   "id": "2635a78d",
   "metadata": {},
   "source": [
    "##### 仅适用于IO3/4"
   ]
  },
  {
   "cell_type": "code",
   "execution_count": null,
   "id": "c793b3dc",
   "metadata": {},
   "outputs": [],
   "source": [
    "Bot.SetIO(3,1)"
   ]
  }
 ],
 "metadata": {
  "kernelspec": {
   "display_name": "Python 3",
   "language": "python",
   "name": "python3"
  },
  "language_info": {
   "name": "python",
   "version": "3.9.6"
  }
 },
 "nbformat": 4,
 "nbformat_minor": 5
}
