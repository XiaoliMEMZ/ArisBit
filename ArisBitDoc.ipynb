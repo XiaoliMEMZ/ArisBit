{
 "cells": [
  {
   "cell_type": "markdown",
   "id": "68b0224e",
   "metadata": {},
   "source": [
    "## ArisBit v1.0 使用手册"
   ]
  },
  {
   "cell_type": "markdown",
   "id": "36323be9",
   "metadata": {},
   "source": [
    "#### 导入库"
   ]
  },
  {
   "cell_type": "code",
   "execution_count": null,
   "id": "130cee89",
   "metadata": {},
   "outputs": [],
   "source": [
    "from arisbit import ArisBit"
   ]
  },
  {
   "cell_type": "markdown",
   "id": "501d284a",
   "metadata": {},
   "source": [
    "#### 实例化对象"
   ]
  },
  {
   "cell_type": "code",
   "execution_count": null,
   "id": "95abdd5e",
   "metadata": {},
   "outputs": [],
   "source": [
    "Bot = ArisBit()"
   ]
  },
  {
   "cell_type": "markdown",
   "id": "5c8595a5",
   "metadata": {},
   "source": [
    "#### 设置电机转速"
   ]
  },
  {
   "cell_type": "markdown",
   "id": "7978008d",
   "metadata": {},
   "source": [
    "##### 数值 = PID目标PPS * 电机倍率"
   ]
  },
  {
   "cell_type": "code",
   "execution_count": null,
   "id": "c81d5221",
   "metadata": {},
   "outputs": [],
   "source": [
    "Bot.SetMotor(Speed1, Speed2, Speed3, Speed4)"
   ]
  },
  {
   "cell_type": "markdown",
   "id": "6b53194c",
   "metadata": {},
   "source": [
    "#### 设置电机倍率"
   ]
  },
  {
   "cell_type": "code",
   "execution_count": null,
   "id": "785205bb",
   "metadata": {},
   "outputs": [],
   "source": [
    "Bot.SetMotorRatio(MotorRatio)"
   ]
  },
  {
   "cell_type": "markdown",
   "id": "7c73b4dc",
   "metadata": {},
   "source": [
    "#### 设置电机PID参数"
   ]
  },
  {
   "cell_type": "code",
   "execution_count": null,
   "id": "12c99fde",
   "metadata": {},
   "outputs": [],
   "source": [
    "Bot.SetMotorPID(Kp, Ki, Kd, forever=False)"
   ]
  },
  {
   "cell_type": "markdown",
   "id": "dab93959",
   "metadata": {},
   "source": [
    "#### 获取电机PID参数"
   ]
  },
  {
   "cell_type": "code",
   "execution_count": null,
   "id": "f1b3f58a",
   "metadata": {},
   "outputs": [],
   "source": [
    "Bot.GetMotorPID()"
   ]
  },
  {
   "cell_type": "markdown",
   "id": "1683873c",
   "metadata": {},
   "source": [
    "#### 获取编码器数值"
   ]
  },
  {
   "cell_type": "code",
   "execution_count": null,
   "id": "cc6d01f0",
   "metadata": {},
   "outputs": [],
   "source": [
    "Bot.GetMotorEncoder()"
   ]
  },
  {
   "cell_type": "markdown",
   "id": "ed44aa40",
   "metadata": {},
   "source": [
    "#### 获取偏航角（指南针）"
   ]
  },
  {
   "cell_type": "code",
   "execution_count": null,
   "id": "7a3095a3",
   "metadata": {},
   "outputs": [],
   "source": [
    "Bot.GetYaw()"
   ]
  },
  {
   "cell_type": "markdown",
   "id": "f484d01b",
   "metadata": {},
   "source": [
    "#### 获取电池电压"
   ]
  },
  {
   "cell_type": "code",
   "execution_count": null,
   "id": "93d786bc",
   "metadata": {},
   "outputs": [],
   "source": [
    "Bot.GetBatVol()"
   ]
  },
  {
   "cell_type": "markdown",
   "id": "b87622da",
   "metadata": {},
   "source": [
    "#### 获取按钮状态"
   ]
  },
  {
   "cell_type": "code",
   "execution_count": null,
   "id": "f1855774",
   "metadata": {},
   "outputs": [],
   "source": [
    "Bot.GetKey()"
   ]
  },
  {
   "cell_type": "markdown",
   "id": "8bfef331",
   "metadata": {},
   "source": [
    "#### 获取IO高低电平"
   ]
  },
  {
   "cell_type": "markdown",
   "id": "6f901c3b",
   "metadata": {},
   "source": [
    "##### 仅适用于IO1/2"
   ]
  },
  {
   "cell_type": "code",
   "execution_count": null,
   "id": "8ce8e245",
   "metadata": {},
   "outputs": [],
   "source": [
    "Bot.GetIO(IOPort)"
   ]
  },
  {
   "cell_type": "markdown",
   "id": "f67a7e7a",
   "metadata": {},
   "source": [
    "#### 设置IO高低电平"
   ]
  },
  {
   "cell_type": "markdown",
   "id": "2635a78d",
   "metadata": {},
   "source": [
    "##### 仅适用于IO3/4"
   ]
  },
  {
   "cell_type": "code",
   "execution_count": null,
   "id": "c793b3dc",
   "metadata": {},
   "outputs": [],
   "source": [
    "Bot.SetIO(IOPort,State)"
   ]
  }
 ],
 "metadata": {
  "kernelspec": {
   "display_name": "Python 3",
   "language": "python",
   "name": "python3"
  },
  "language_info": {
   "name": "python",
   "version": "3.9.6"
  }
 },
 "nbformat": 4,
 "nbformat_minor": 5
}
